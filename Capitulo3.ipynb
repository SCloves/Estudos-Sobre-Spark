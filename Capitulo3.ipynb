{
 "cells": [
  {
   "cell_type": "markdown",
   "metadata": {},
   "source": [
    "# Spark #\n",
    "\n",
    "In Spark we express our computation through operations on distributed collections that\n",
    "are automatically parallelized across the cluster. These collections are called Resilient\n",
    "Distributed Datasets, or RDDs. RDDs are Spark’s fundamental abstraction for dis‐\n",
    "tributed data and computation.\n",
    "Before we say more about RDDs, let’s create one in the shell from a local text file and\n",
    "do some very simple ad-hoc analysis by following the example below."
   ]
  },
  {
   "cell_type": "code",
   "execution_count": 2,
   "metadata": {
    "collapsed": true
   },
   "outputs": [],
   "source": [
    "# Create an RDD called lines\n",
    "lines = sc.textFile(\"dadosmalariaCEA15P14.csv\")"
   ]
  },
  {
   "cell_type": "code",
   "execution_count": 3,
   "metadata": {
    "collapsed": false
   },
   "outputs": [
    {
     "data": {
      "text/plain": [
       "601"
      ]
     },
     "execution_count": 3,
     "metadata": {},
     "output_type": "execute_result"
    }
   ],
   "source": [
    "# Count the number of items in this RDD\n",
    "lines.count()"
   ]
  },
  {
   "cell_type": "code",
   "execution_count": 4,
   "metadata": {
    "collapsed": false
   },
   "outputs": [
    {
     "data": {
      "text/plain": [
       "'id;grupo;data;datnasc;idade;natural;bairro;cidade;profissa;estciv;escola;raca;locresid;tempresid;qntcomod;qntpesshab;banheiro;luz;gerador;radio;tv;telfixo;cel;bicicleta;moto;carro;canoa;barcomot;geladeira;agua;piso;telhado;janela;telajan;alimcons;verdhort;leitderiv;carneovo;feijao;arrozmilh;frutas;extrativ;cacapesc;outro;auxil;renda;pressao;fuma;fumagest;qntfuma;remedio;qualremed;drogas;alcool;alcoolgest;qntalcool;antecpess;antecespe;qntgest;paridade;nascvivo;nascmort;abortprov;partocesar;partonorm;anormnasc;qualanor;termgest;amament;pesomenor;nascmaior;ig1;movbb;tommed;sulfferro;acfolico;vitprenat;complb;complgest;sangra;igsangra;anemia;pressalt;diabete;transfsang;cortinado;dormeemb;mosqimpreg;grupo_cortin;borrifa;preventmal;medmal;qualmedmal;frequsomed;malvida;qtsmal;malgestant;qtsmalant;malgestatu;primoinfec;qtsmalatua;n1qualgest;n1qntsmal;n2qualgest;n2qntsmal;n3qualgest;n3qntsmal;n4qualgest;n4qntsmal;n5qualgest;n5qntsmal;n6qualgest;n6qntsmal;viagemrec;ondeviag;objetviag;outrobjet;dormiuviag;tipoacomod;templocal;tempaxi;freqcard;freqresp;padiast;pasisto;pesoinicge;pesofinges;altura;imc1;imc2;altfundute;dum;dpp;ictericia;palidez;cianose;edema;bcf;qntbcf;obs;malatual;espmal1;parmal1;igmal1;notific1;numenotif1;datanotif1;sintoma1;datsinton1;febre1;calafrio1;sudorese1;dorcabeca1;dormusc1;fraqueza1;faltapet1;nausea1;vomito1;dorabdom1;diarreia1;tosse1;prurido1;reacpele1;zumbido1;dificdorm1;mudcomport;alucinacao;convulsao1;sangravag1;tontura1;outrosint1;medicsint1;qlmedsint1;usoplant1;qlplanta1;tratmal1;outrotrat1;obs1;vc1;datavc1;segtrat1;tratadm1;tratnao1;sintaptr1;febre11;calafrio11;dorcabec11;sudorese11;diarreia11;tosse11;dorurin11;vomito11;tontura11;outrsin11;tratprofi1;obs11;outrmal1;espmal2;parmal2;igmal2;notific2;numenotif2;datanotif2;sintoma2;datsinton2;febre2;calafrio2;sudorese2;dorcabeca2;dormusc2;fraqueza2;faltapet2;nausea2;vomito2;dorabdom2;diarreia2;tosse2;prurido2;reacpele2;zumbido2;dificdorm2;mudcompor1;alucinaca1;convulsao2;sangravag2;tontura2;outrosint2;medicsint2;qlmedsint2;usoplant2;qlplanta2;tratmal2;outrotrat2;obs2;vc2;datavc2;segtrat2;tratadm2;tratnao2;sintaptr2;febre22;calafrio22;dorcabec22;sudorese22;diarreia22;tosse22;dorurin22;vomito22;tontura22;outrsin22;tratprofi2;obs22;outrmal2;espmal3;parmal3;igmal3;notific3;numenotif3;datanotif3;sintoma3;datsinton3;febre3;calafrio3;sudorese3;dorcabeca3;dormusc3;fraqueza3;faltapet3;nausea3;vomito3;dorabdom3;diarreia3;tosse3;prurido3;reacpele3;zumbido3;dificdorm3;mudcompor2;alucinaca2;convulsao3;sangravag3;tontura3;outrosint3;medicsint3;qlmedsint3;usoplant3;qlplanta3;tratmal3;outrotrat3;obs3;vc3;datavc3;segtrat3;tratadm3;tratnao3;sintaptr3;febre33;calafrio33;dorcabec33;sudorese33;diarreia33;tosse33;dorurin33;vomito33;tontura33;outrsin33;tratprofi3;obs33;outrmal3;espmal4;parmal4;igmal4;notific4;numenotif4;datanotif4;sintoma4;datsinton4;febre4;calafrio4;sudorese4;dorcabeca4;dormusc4;fraqueza4;faltapet4;nausea4;vomito4;dorabdom4;diarreia4;tosse4;prurido4;reacpele4;zumbido4;dificdorm4;mudcompor3;alucinaca3;convulsao4;sangravag4;tontura4;outrosint4;medicsint4;qlmedsint4;usoplant4;qlplanta4;tratmal4;outrotrat4;obs4;vc4;datavc4;segtrat4;tratadm4;tratnao4;sintaptr4;febre44;calafrio44;dorcabec44;sudorese44;diarreia44;tosse44;dorurin44;vomito44;tontura44;outrsin44;tratprofi4;obs44;outrmal4;espmal5;parmal5;igmal5;notific5;numenotif5;datanotif5;sintoma5;datsinton5;febre5;calafrio5;sudorese5;dorcabeca5;dormusc5;fraqueza5;faltapet5;nausea5;vomito5;dorabdom5;diarreia5;tosse5;prurido5;reacpele5;zumbido5;dificdorm5;mudcompor4;alucinaca4;convulsao5;sangravag5;tontura5;outrosint5;realizvisi;datavis1;igvis1;pesovis1;pasisvis1;padisvis1;fcvis1;frvis1;edemvis1;auvis1;bcfvis1;movfetvis1;tempaxvis1;outrvisit1;datavis2;igvis2;pesovis2;pasisvis2;padisvis2;fcvis2;frvis2;edemvis2;auvis2;bcfvis2;movfetvis2;tempaxvis2;outrvisit2;datavis3;igvis3;pesovis3;pasisvis3;padisvis3;fcvis3;frvis3;edemvis3;auvis3;bcfvis3;movfetvis3;tempaxvis3;outrvisit3;datavis4;igvis4;pesovis4;pasisvis4;padisvis4;fcvis4;frvis4;edemvis4;auvis4;bcfvis4;movfetvis4;tempaxvis4;abo;rh;coombs;vdrl;hbsag;hcv;toxo;hiv;epf;resultepf;realizexam;dataexam1;igexam1;hbexam1;htexam1;vcmexam1;hcmexam1;chcmexam1;leu1;pla1;ast1;alt1;bilitot1;bilidir1;creatin1;ureia1;glicejej1;outroexam1;dataexam2;igexam2;hbexam2;htexam2;vcmexam2;hcmexam2;chcmexam2;leu2;pla2;ast2;alt2;bilitot2;bilidir2;creatin2;ureia2;glicejej2;outroexam2;dataexam3;igexam3;hbexam3;htexam3;vcmexam3;hcmexam3;chcmexam3;leu3;pla3;ast3;alt3;bilitot3;bilidir3;creatin3;ureia3;glicejej3;examparto;dataexam4;igexam4;hbexam4;htexam4;vcmexam4;hcmexam4;chcmexam4;leu4;pla4;ast4;alt4;bilitot4;bilidir4;creatin4;ureia4;glicejej4;obsexcomp;dataparto;analise;pesoplac;analmacro;altermater;calcifica;hemorragia;infarto;coagulo;lesaocotil;outralesao;quallesao;alterfetal;infarfet;vesicfet;inscord;qntvasofet;trocaocord;nocordao;altermembr;disposmemb;cormemb;fotoplac;fragetan;fragform;imprint;gotespplac;esfregplac;pfplac;sangplacrn;fragrnapla;fragmicele;fragtk;gotespcu;esfregcu;pfcu;sangcurna;parto1;obspartpla;datnascrn;ig2;prematrn;sexorn;bpn;peso;est;ir;pc;pt;apg1;apg5;parto;indcpart;meconio;choro;reanimacao;pn;obsrn;Aborto;Natimorto;max_paramal;trim_mal1;trim_mal2;trim_mal3;trim_mal4;trim_mal5;trimestres;trim_grupo;qtmal_grav;peso_plac_menor'"
      ]
     },
     "execution_count": 4,
     "metadata": {},
     "output_type": "execute_result"
    }
   ],
   "source": [
    "# First item in this RDD, i.e. first line of ids_date_last_modified.csv\n",
    "lines.first() "
   ]
  },
  {
   "cell_type": "markdown",
   "metadata": {},
   "source": [
    "O programa driver, ou main, irá acessar o Spark atraves de um objeto SparkContext que representa a conexão com uma computação cluster. No shell do pyspark que abrimos aqui, esse objeto é criado automaticamente com o nome sc. "
   ]
  },
  {
   "cell_type": "code",
   "execution_count": 5,
   "metadata": {
    "collapsed": false
   },
   "outputs": [
    {
     "data": {
      "text/plain": [
       "<pyspark.context.SparkContext at 0x7f0d800b5240>"
      ]
     },
     "execution_count": 5,
     "metadata": {},
     "output_type": "execute_result"
    }
   ],
   "source": [
    "sc"
   ]
  },
  {
   "cell_type": "code",
   "execution_count": 6,
   "metadata": {
    "collapsed": true
   },
   "outputs": [],
   "source": [
    "GUAJARALines = lines.filter(lambda line: \"GUAJARA\" in line)"
   ]
  },
  {
   "cell_type": "code",
   "execution_count": 7,
   "metadata": {
    "collapsed": false
   },
   "outputs": [
    {
     "data": {
      "text/plain": [
       "'2;1;07/12/2012;03/09/1994;18;GUAJARA;;GUAJARA;DO LAR;1;3;1;1;5;4;5;1;1;0;1;1;0;0;1;0;0;0;0;1;5;2;2;2;0;1;0;0;1;0;0;0;0;0;0;1;1;0;0;;;0;;0;0;;;0;;1;1;;;;;;;;;;;;17;0;0;;;;;0;;;;;;0;1;0;0;2- Tem, n�o dorme, n�o impreg;0;0;0;;;1;1;0;;1;3- Sim;2;1;2;;;;;;;;;;;1;SANTA LUZIA;2;;1;4;1;37,2;86;22;110;60;53,5;62;159;21,16;24,52;17;09/08/2012;16/05/2013;0;1;0;0;1;132;;1;1;3;17;1;15854;07/12/2012;1;06/12/2012;1;1;0;1;0;0;0;0;0;0;0;0;0;0;0;0;0;0;0;0;0;0;1;PARACETAMOL;0;;1;;;1;02/01/2013;1;1;;0;;;;;;;;;;;0;;1;1;4;23;1;995;15/01/2013;1;13/01/2013;1;1;0;0;0;0;0;0;0;0;0;0;0;0;0;0;0;0;0;0;0;0;1;PARACETAMOL;0;;1;;;1;30/01/2013;1;1;;0;;;;;;;;;;;0;;0;;;9999;;;;;;;;;;;;;;;;;;;;;;;;;;;;;;;;;;;;;;;;;;;;;;;;;;;;;;;;9999;;;;;;;;;;;;;;;;;;;;;;;;;;;;;;;;;;;;;;;;;;;;;;;;;;;;;;;;9999;;;;;;;;;;;;;;;;;;;;;;;;;;;;1;02/01/2013;21;54,5;120;70;80;21;0;18;128;1;;1;13/02/2013;27;56,2;110;60;86;20;0;22;148;1;35,5;1;25/04/2013;37;62;120;60;88;18;2;32;144;1;36,1;0;;;;;;;;;;;;;1;1;;0;9;9;9;0;9;;1;18/04/2013;;12;35,2;88,3;30,1;34,1;12,4;209;;;;;;;;0;;;;;;;;;;;;;;;;;;;;;;;;;;;;;;;;;;0;;;;;;;;;;;;;;;;;EAS-PRESENCA DE TRICHOMONAS SP E LEVEDURAS;26/04/2013;1;519,6;1;1;1;0;1;0;1;0;;0;;;2;1;1;0;0;1;1;1;1;1;1;1;1;1;1;1;0;0;0;0;1;1;2;;26/04/2013;37;0;2;0;2925;46;3,01;32;31;9;9;2;SEM INDICACAO;9;1;0;0;;0;0;4;2;2;0;0;0;22000;2;2;0'"
      ]
     },
     "execution_count": 7,
     "metadata": {},
     "output_type": "execute_result"
    }
   ],
   "source": [
    "GUAJARALines.first()"
   ]
  },
  {
   "cell_type": "markdown",
   "metadata": {},
   "source": [
    "Spark’s RDDs are by default recomputed each time you run an action on\n",
    "them. If you would like to reuse an RDD in multiple actions, you can ask Spark to\n",
    "persist it using RDD.persist() ."
   ]
  },
  {
   "cell_type": "markdown",
   "metadata": {},
   "source": [
    "In practice, you will often use persist() to load a subset of your data into memory\n",
    "and query it repeatedly."
   ]
  },
  {
   "cell_type": "code",
   "execution_count": 8,
   "metadata": {
    "collapsed": false
   },
   "outputs": [
    {
     "data": {
      "text/plain": [
       "PythonRDD[7] at RDD at PythonRDD.scala:43"
      ]
     },
     "execution_count": 8,
     "metadata": {},
     "output_type": "execute_result"
    }
   ],
   "source": [
    "GUAJARALines.persist()"
   ]
  },
  {
   "cell_type": "code",
   "execution_count": 9,
   "metadata": {
    "collapsed": false
   },
   "outputs": [
    {
     "data": {
      "text/plain": [
       "25"
      ]
     },
     "execution_count": 9,
     "metadata": {},
     "output_type": "execute_result"
    }
   ],
   "source": [
    "GUAJARALines.count()"
   ]
  },
  {
   "cell_type": "markdown",
   "metadata": {},
   "source": [
    "# Creating RDDs #\n",
    "\n",
    "Spark provides two ways to create RDDs: loading an external dataset and paralleliz‐\n",
    "ing a collection in your driver program."
   ]
  },
  {
   "cell_type": "code",
   "execution_count": 10,
   "metadata": {
    "collapsed": true
   },
   "outputs": [],
   "source": [
    "lines_p = sc.parallelize([\"pandas\", \"i like pandas\"])"
   ]
  },
  {
   "cell_type": "code",
   "execution_count": 11,
   "metadata": {
    "collapsed": false
   },
   "outputs": [
    {
     "data": {
      "text/plain": [
       "2"
      ]
     },
     "execution_count": 11,
     "metadata": {},
     "output_type": "execute_result"
    }
   ],
   "source": [
    "lines_p.count()"
   ]
  },
  {
   "cell_type": "markdown",
   "metadata": {},
   "source": [
    "# Transformations #\n",
    "\n",
    "Transformations are operations on RDDs that return a new RDD."
   ]
  },
  {
   "cell_type": "code",
   "execution_count": 12,
   "metadata": {
    "collapsed": true
   },
   "outputs": [],
   "source": [
    "SABOEIROLines = lines.filter(lambda line: \"SABOEIRO\" in line) # Novo RDD"
   ]
  },
  {
   "cell_type": "code",
   "execution_count": 13,
   "metadata": {
    "collapsed": false
   },
   "outputs": [
    {
     "data": {
      "text/plain": [
       "9"
      ]
     },
     "execution_count": 13,
     "metadata": {},
     "output_type": "execute_result"
    }
   ],
   "source": [
    "SABOEIROLines.count()"
   ]
  },
  {
   "cell_type": "code",
   "execution_count": 14,
   "metadata": {
    "collapsed": true
   },
   "outputs": [],
   "source": [
    "SABOEIRO_GUAJARA = SABOEIROLines.join(GUAJARALines)"
   ]
  },
  {
   "cell_type": "code",
   "execution_count": 15,
   "metadata": {
    "collapsed": true
   },
   "outputs": [],
   "source": [
    "SABOEIRO_GUAJARA = SABOEIROLines.join(GUAJARALines)"
   ]
  },
  {
   "cell_type": "markdown",
   "metadata": {},
   "source": [
    "# Actions #\n",
    "\n",
    "They are the operations that return a final value to the driver\n",
    "program or write data to an external storage system."
   ]
  },
  {
   "cell_type": "code",
   "execution_count": 17,
   "metadata": {
    "collapsed": false
   },
   "outputs": [],
   "source": [
    "inputRDD = sc.textFile(\"log.txt\")\n",
    "errorsRDD = inputRDD.filter(lambda x: \"ERROR\" in x)\n",
    "warningsRDD = inputRDD.filter(lambda x: \"WARN\" in x)\n",
    "badLinesRDD = errorsRDD.union(warningsRDD)"
   ]
  },
  {
   "cell_type": "code",
   "execution_count": 19,
   "metadata": {
    "collapsed": false
   },
   "outputs": [
    {
     "name": "stdout",
     "output_type": "stream",
     "text": [
      "Input had  5  concerning lines\n",
      "Here are 10 examples:\n",
      "ERROR\tphp: dying for unknown reasons\n",
      "ERROR\tdid mysql just barf?\n",
      "ERROR\tmysql cluster: replace with spark cluster\n",
      "WARN\tdave, are you angry at me?\n",
      "WARN\txylons approaching\n"
     ]
    }
   ],
   "source": [
    "print (\"Input had \", badLinesRDD.count(),\" concerning lines\")\n",
    "print (\"Here are 10 examples:\")\n",
    "for line in badLinesRDD.take(10):\n",
    "    print (line)"
   ]
  },
  {
   "cell_type": "markdown",
   "metadata": {},
   "source": [
    "# Passing Functions to Spark"
   ]
  },
  {
   "cell_type": "code",
   "execution_count": 20,
   "metadata": {
    "collapsed": true
   },
   "outputs": [],
   "source": [
    "def containsError(s):\n",
    "    return \"error\" in s"
   ]
  },
  {
   "cell_type": "code",
   "execution_count": 21,
   "metadata": {
    "collapsed": true
   },
   "outputs": [],
   "source": [
    "rdd = sc.textFile(\"log.txt\")\n",
    "word = rdd.filter(containsError)"
   ]
  },
  {
   "cell_type": "markdown",
   "metadata": {},
   "source": [
    "# Element-wise transformations #\n",
    "\n",
    "The two most common transformations you will likely be using are map() and filter().\n",
    "\n",
    "<img src='map.png'>\n",
    "\n",
    "Let’s look at a basic example of map() that squares all of the numbers in an RDD"
   ]
  },
  {
   "cell_type": "code",
   "execution_count": 22,
   "metadata": {
    "collapsed": true
   },
   "outputs": [],
   "source": [
    "nums = sc.parallelize([1, 2, 3, 4])"
   ]
  },
  {
   "cell_type": "code",
   "execution_count": 23,
   "metadata": {
    "collapsed": true
   },
   "outputs": [],
   "source": [
    "def quadrado(x):\n",
    "    return x*x"
   ]
  },
  {
   "cell_type": "code",
   "execution_count": 24,
   "metadata": {
    "collapsed": true
   },
   "outputs": [],
   "source": [
    "numeros_ao_quadrado = nums.map(quadrado).collect()"
   ]
  },
  {
   "cell_type": "code",
   "execution_count": 26,
   "metadata": {
    "collapsed": false
   },
   "outputs": [
    {
     "name": "stdout",
     "output_type": "stream",
     "text": [
      "1\n",
      "4\n",
      "9\n",
      "16\n"
     ]
    }
   ],
   "source": [
    "for numero in numeros_ao_quadrado:\n",
    "    print (numero)"
   ]
  },
  {
   "cell_type": "markdown",
   "metadata": {},
   "source": [
    "Sometimes we want to produce multiple output elements for each input element. The\n",
    "operation to do this is called flatMap().\n",
    "\n",
    "<img src='img2.png'>"
   ]
  },
  {
   "cell_type": "code",
   "execution_count": 27,
   "metadata": {
    "collapsed": true
   },
   "outputs": [],
   "source": [
    "lines = sc.parallelize([\"coffe panda\", \"happy panda\", \"happiest pandas party\"])"
   ]
  },
  {
   "cell_type": "code",
   "execution_count": 28,
   "metadata": {
    "collapsed": true
   },
   "outputs": [],
   "source": [
    "words = lines.flatMap(lambda line: line.split(\" \"))"
   ]
  },
  {
   "cell_type": "code",
   "execution_count": 29,
   "metadata": {
    "collapsed": false
   },
   "outputs": [
    {
     "data": {
      "text/plain": [
       "'coffe'"
      ]
     },
     "execution_count": 29,
     "metadata": {},
     "output_type": "execute_result"
    }
   ],
   "source": [
    "words.first()"
   ]
  },
  {
   "cell_type": "code",
   "execution_count": 31,
   "metadata": {
    "collapsed": false
   },
   "outputs": [
    {
     "name": "stdout",
     "output_type": "stream",
     "text": [
      "coffe\n",
      "panda\n",
      "happy\n",
      "panda\n",
      "happiest\n",
      "pandas\n",
      "party\n"
     ]
    }
   ],
   "source": [
    "for line in words.take(7):\n",
    "    print (line)"
   ]
  },
  {
   "cell_type": "code",
   "execution_count": 32,
   "metadata": {
    "collapsed": true
   },
   "outputs": [],
   "source": [
    "words2 = lines.map(lambda line: line.split())"
   ]
  },
  {
   "cell_type": "code",
   "execution_count": 34,
   "metadata": {
    "collapsed": false
   },
   "outputs": [
    {
     "name": "stdout",
     "output_type": "stream",
     "text": [
      "['coffe', 'panda']\n",
      "['happy', 'panda']\n",
      "['happiest', 'pandas', 'party']\n"
     ]
    }
   ],
   "source": [
    "for line in words2.take(3):\n",
    "    print (line)"
   ]
  },
  {
   "cell_type": "markdown",
   "metadata": {},
   "source": [
    "# Pseudo set operations\n",
    "\n",
    "RDDs support many of the operations of mathematical sets, such as union and inter‐\n",
    "section, even when the RDDs themselves are not properly sets. Four operations are\n",
    "shown in Figure 3-4. It’s important to note that all of these operations require that\n",
    "the RDDs being operated on are of the same type.\n",
    "\n",
    "<img src='set.png'>"
   ]
  },
  {
   "cell_type": "code",
   "execution_count": 35,
   "metadata": {
    "collapsed": true
   },
   "outputs": [],
   "source": [
    "RDD1 = sc.parallelize(['coffe', 'coffe', 'panda', 'monkey', 'tea'])"
   ]
  },
  {
   "cell_type": "code",
   "execution_count": 36,
   "metadata": {
    "collapsed": true
   },
   "outputs": [],
   "source": [
    "RDD2 = sc.parallelize(['coffe', 'monkey', 'kitty'])"
   ]
  },
  {
   "cell_type": "code",
   "execution_count": 41,
   "metadata": {
    "collapsed": false
   },
   "outputs": [
    {
     "name": "stdout",
     "output_type": "stream",
     "text": [
      "coffe\n",
      "panda\n",
      "tea\n",
      "monkey\n"
     ]
    }
   ],
   "source": [
    "distintos = RDD1.distinct()\n",
    "for i in distintos.take(5):\n",
    "    print(i)"
   ]
  },
  {
   "cell_type": "code",
   "execution_count": 43,
   "metadata": {
    "collapsed": false
   },
   "outputs": [
    {
     "name": "stdout",
     "output_type": "stream",
     "text": [
      "coffe\n",
      "coffe\n",
      "panda\n",
      "monkey\n",
      "tea\n",
      "coffe\n",
      "monkey\n",
      "kitty\n"
     ]
    }
   ],
   "source": [
    "uniao = RDD1.union(RDD2)\n",
    "for i in uniao.take(10):\n",
    "    print(i)"
   ]
  },
  {
   "cell_type": "code",
   "execution_count": 44,
   "metadata": {
    "collapsed": false
   },
   "outputs": [
    {
     "name": "stdout",
     "output_type": "stream",
     "text": [
      "coffe\n",
      "monkey\n"
     ]
    }
   ],
   "source": [
    "inter = RDD1.intersection(RDD2)\n",
    "for i in inter.take(10):\n",
    "    print(i)"
   ]
  },
  {
   "cell_type": "code",
   "execution_count": 46,
   "metadata": {
    "collapsed": false
   },
   "outputs": [
    {
     "name": "stdout",
     "output_type": "stream",
     "text": [
      "panda\n",
      "tea\n"
     ]
    }
   ],
   "source": [
    "sub = RDD1.subtract(RDD2)\n",
    "for i in sub.take(10):\n",
    "    print(i)"
   ]
  },
  {
   "cell_type": "markdown",
   "metadata": {},
   "source": [
    "# Produto cartesiano\n",
    "\n",
    "We can also compute a Cartesian product between two RDDs, as shown in\n",
    "Figure 3-5. The cartesian(other) transformation returns all possible pairs of (a,\n",
    "b) where a is in the source RDD and b is in the other RDD. The Cartesian product\n",
    "can be useful when we wish to consider the similarity between all possible pairs, such\n",
    "as computing every user’s expected interest in each offer. We can also take the Carte‐\n",
    "sian product of an RDD with itself, which can be useful for tasks like user similarity.\n",
    "Be warned, however, that the Cartesian product is very expensive for large RDDs.\n",
    "\n",
    "<img src='cartesiano.png'>"
   ]
  },
  {
   "cell_type": "code",
   "execution_count": 47,
   "metadata": {
    "collapsed": true
   },
   "outputs": [],
   "source": [
    "RDD1 = sc.parallelize('Paus Ouros Copas Espadas'.split())"
   ]
  },
  {
   "cell_type": "code",
   "execution_count": 59,
   "metadata": {
    "collapsed": false
   },
   "outputs": [],
   "source": [
    "RDD2 = sc.parallelize([str(n) for n in range(2, 11)] + list('AKQJ'))"
   ]
  },
  {
   "cell_type": "code",
   "execution_count": 60,
   "metadata": {
    "collapsed": false
   },
   "outputs": [],
   "source": [
    "produto_cartesiano = RDD1.cartesian(RDD2)"
   ]
  },
  {
   "cell_type": "code",
   "execution_count": 61,
   "metadata": {
    "collapsed": false
   },
   "outputs": [
    {
     "name": "stdout",
     "output_type": "stream",
     "text": [
      "('Paus', '2')\n",
      "('Paus', '3')\n",
      "('Paus', '4')\n",
      "('Paus', '5')\n",
      "('Paus', '6')\n",
      "('Paus', '7')\n",
      "('Paus', '8')\n",
      "('Paus', '9')\n",
      "('Paus', '10')\n",
      "('Paus', 'A')\n",
      "('Paus', 'K')\n",
      "('Paus', 'Q')\n",
      "('Paus', 'J')\n",
      "('Ouros', '2')\n",
      "('Ouros', '3')\n",
      "('Ouros', '4')\n",
      "('Ouros', '5')\n",
      "('Ouros', '6')\n",
      "('Ouros', '7')\n",
      "('Ouros', '8')\n",
      "('Ouros', '9')\n",
      "('Ouros', '10')\n",
      "('Ouros', 'A')\n",
      "('Ouros', 'K')\n",
      "('Ouros', 'Q')\n",
      "('Ouros', 'J')\n",
      "('Copas', '2')\n",
      "('Copas', '3')\n",
      "('Copas', '4')\n",
      "('Copas', '5')\n",
      "('Copas', '6')\n",
      "('Copas', '7')\n",
      "('Copas', '8')\n",
      "('Copas', '9')\n",
      "('Copas', '10')\n",
      "('Copas', 'A')\n",
      "('Copas', 'K')\n",
      "('Copas', 'Q')\n",
      "('Copas', 'J')\n",
      "('Espadas', '2')\n",
      "('Espadas', '3')\n",
      "('Espadas', '4')\n",
      "('Espadas', '5')\n",
      "('Espadas', '6')\n",
      "('Espadas', '7')\n",
      "('Espadas', '8')\n",
      "('Espadas', '9')\n",
      "('Espadas', '10')\n",
      "('Espadas', 'A')\n",
      "('Espadas', 'K')\n",
      "('Espadas', 'Q')\n",
      "('Espadas', 'J')\n"
     ]
    }
   ],
   "source": [
    "for i in produto_cartesiano.take(60):\n",
    "    print(i)"
   ]
  },
  {
   "cell_type": "code",
   "execution_count": null,
   "metadata": {
    "collapsed": true
   },
   "outputs": [],
   "source": []
  }
 ],
 "metadata": {
  "anaconda-cloud": {},
  "kernelspec": {
   "display_name": "Python [conda env:py35]",
   "language": "python",
   "name": "conda-env-py35-py"
  },
  "language_info": {
   "codemirror_mode": {
    "name": "ipython",
    "version": 3
   },
   "file_extension": ".py",
   "mimetype": "text/x-python",
   "name": "python",
   "nbconvert_exporter": "python",
   "pygments_lexer": "ipython3",
   "version": "3.5.2"
  }
 },
 "nbformat": 4,
 "nbformat_minor": 2
}
